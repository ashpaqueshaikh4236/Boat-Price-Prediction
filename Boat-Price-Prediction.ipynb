{
 "cells": [
  {
   "cell_type": "code",
   "execution_count": 1,
   "id": "940cf282-fb1f-4034-b406-a408ec5d4348",
   "metadata": {},
   "outputs": [],
   "source": [
    "import pandas as pd\n",
    "import numpy as np\n",
    "import matplotlib.pyplot as plt\n",
    "import seaborn as sns\n",
    "import warnings\n",
    "warnings.filterwarnings(action='ignore')"
   ]
  },
  {
   "cell_type": "code",
   "execution_count": 2,
   "id": "0f4d0124-3787-4cb0-b1dc-deacc012b212",
   "metadata": {},
   "outputs": [],
   "source": [
    "df = pd.read_csv('Boats-dataset.csv')"
   ]
  },
  {
   "cell_type": "code",
   "execution_count": 3,
   "id": "4ec5a62d-20a4-4bbc-ad5b-6818991d5fb1",
   "metadata": {},
   "outputs": [
    {
     "data": {
      "text/html": [
       "<div>\n",
       "<style scoped>\n",
       "    .dataframe tbody tr th:only-of-type {\n",
       "        vertical-align: middle;\n",
       "    }\n",
       "\n",
       "    .dataframe tbody tr th {\n",
       "        vertical-align: top;\n",
       "    }\n",
       "\n",
       "    .dataframe thead th {\n",
       "        text-align: right;\n",
       "    }\n",
       "</style>\n",
       "<table border=\"1\" class=\"dataframe\">\n",
       "  <thead>\n",
       "    <tr style=\"text-align: right;\">\n",
       "      <th></th>\n",
       "      <th>Unnamed: 0</th>\n",
       "      <th>id</th>\n",
       "      <th>type</th>\n",
       "      <th>boatClass</th>\n",
       "      <th>make</th>\n",
       "      <th>model</th>\n",
       "      <th>year</th>\n",
       "      <th>condition</th>\n",
       "      <th>length_ft</th>\n",
       "      <th>beam_ft</th>\n",
       "      <th>...</th>\n",
       "      <th>minEngineYear</th>\n",
       "      <th>engineCategory</th>\n",
       "      <th>price</th>\n",
       "      <th>sellerId</th>\n",
       "      <th>city</th>\n",
       "      <th>state</th>\n",
       "      <th>zip</th>\n",
       "      <th>created_date</th>\n",
       "      <th>created_month</th>\n",
       "      <th>created_year</th>\n",
       "    </tr>\n",
       "  </thead>\n",
       "  <tbody>\n",
       "    <tr>\n",
       "      <th>0</th>\n",
       "      <td>1</td>\n",
       "      <td>7252689</td>\n",
       "      <td>power</td>\n",
       "      <td>power-center</td>\n",
       "      <td>Aquasport</td>\n",
       "      <td>210 CC</td>\n",
       "      <td>1992</td>\n",
       "      <td>used</td>\n",
       "      <td>21.0</td>\n",
       "      <td>8.50</td>\n",
       "      <td>...</td>\n",
       "      <td>NaN</td>\n",
       "      <td>outboard-4s</td>\n",
       "      <td>16500.0</td>\n",
       "      <td>217053</td>\n",
       "      <td>Englewood</td>\n",
       "      <td>FL</td>\n",
       "      <td>34224</td>\n",
       "      <td>2019-10-16</td>\n",
       "      <td>10</td>\n",
       "      <td>2019</td>\n",
       "    </tr>\n",
       "    <tr>\n",
       "      <th>1</th>\n",
       "      <td>3</td>\n",
       "      <td>7228300</td>\n",
       "      <td>power</td>\n",
       "      <td>power-sportcruiser</td>\n",
       "      <td>Formula</td>\n",
       "      <td>400 Super Sport</td>\n",
       "      <td>2018</td>\n",
       "      <td>used</td>\n",
       "      <td>40.0</td>\n",
       "      <td>11.00</td>\n",
       "      <td>...</td>\n",
       "      <td>2018.0</td>\n",
       "      <td>inboard-outboard</td>\n",
       "      <td>539000.0</td>\n",
       "      <td>44260</td>\n",
       "      <td>Harsens Island</td>\n",
       "      <td>MI</td>\n",
       "      <td>48028</td>\n",
       "      <td>2019-09-24</td>\n",
       "      <td>9</td>\n",
       "      <td>2019</td>\n",
       "    </tr>\n",
       "    <tr>\n",
       "      <th>2</th>\n",
       "      <td>5</td>\n",
       "      <td>7271336</td>\n",
       "      <td>power</td>\n",
       "      <td>power-deck</td>\n",
       "      <td>Bayliner</td>\n",
       "      <td>Element 180</td>\n",
       "      <td>2020</td>\n",
       "      <td>new</td>\n",
       "      <td>18.0</td>\n",
       "      <td>7.42</td>\n",
       "      <td>...</td>\n",
       "      <td>2019.0</td>\n",
       "      <td>outboard-4s</td>\n",
       "      <td>26995.0</td>\n",
       "      <td>220570</td>\n",
       "      <td>Marietta</td>\n",
       "      <td>OH</td>\n",
       "      <td>45750</td>\n",
       "      <td>2019-11-02</td>\n",
       "      <td>11</td>\n",
       "      <td>2019</td>\n",
       "    </tr>\n",
       "    <tr>\n",
       "      <th>3</th>\n",
       "      <td>6</td>\n",
       "      <td>7222952</td>\n",
       "      <td>power</td>\n",
       "      <td>power-expresscruiser</td>\n",
       "      <td>Regal</td>\n",
       "      <td>32 Express</td>\n",
       "      <td>2015</td>\n",
       "      <td>used</td>\n",
       "      <td>32.0</td>\n",
       "      <td>10.33</td>\n",
       "      <td>...</td>\n",
       "      <td>NaN</td>\n",
       "      <td>multiple</td>\n",
       "      <td>169995.0</td>\n",
       "      <td>34834</td>\n",
       "      <td>North Charleston</td>\n",
       "      <td>SC</td>\n",
       "      <td>29405</td>\n",
       "      <td>2019-09-19</td>\n",
       "      <td>9</td>\n",
       "      <td>2019</td>\n",
       "    </tr>\n",
       "    <tr>\n",
       "      <th>4</th>\n",
       "      <td>8</td>\n",
       "      <td>6824832</td>\n",
       "      <td>power</td>\n",
       "      <td>power-aft</td>\n",
       "      <td>Carver</td>\n",
       "      <td>440 Aft Cabin Motor Yacht</td>\n",
       "      <td>1994</td>\n",
       "      <td>used</td>\n",
       "      <td>44.0</td>\n",
       "      <td>15.00</td>\n",
       "      <td>...</td>\n",
       "      <td>1994.0</td>\n",
       "      <td>inboard</td>\n",
       "      <td>109900.0</td>\n",
       "      <td>17942</td>\n",
       "      <td>Middle River</td>\n",
       "      <td>MD</td>\n",
       "      <td>21220</td>\n",
       "      <td>2018-08-29</td>\n",
       "      <td>8</td>\n",
       "      <td>2018</td>\n",
       "    </tr>\n",
       "  </tbody>\n",
       "</table>\n",
       "<p>5 rows × 26 columns</p>\n",
       "</div>"
      ],
      "text/plain": [
       "   Unnamed: 0       id   type             boatClass       make  \\\n",
       "0           1  7252689  power          power-center  Aquasport   \n",
       "1           3  7228300  power    power-sportcruiser    Formula   \n",
       "2           5  7271336  power            power-deck   Bayliner   \n",
       "3           6  7222952  power  power-expresscruiser      Regal   \n",
       "4           8  6824832  power             power-aft     Carver   \n",
       "\n",
       "                       model  year condition  length_ft  beam_ft  ...  \\\n",
       "0                     210 CC  1992      used       21.0     8.50  ...   \n",
       "1            400 Super Sport  2018      used       40.0    11.00  ...   \n",
       "2                Element 180  2020       new       18.0     7.42  ...   \n",
       "3                 32 Express  2015      used       32.0    10.33  ...   \n",
       "4  440 Aft Cabin Motor Yacht  1994      used       44.0    15.00  ...   \n",
       "\n",
       "   minEngineYear    engineCategory     price  sellerId              city  \\\n",
       "0            NaN       outboard-4s   16500.0    217053         Englewood   \n",
       "1         2018.0  inboard-outboard  539000.0     44260    Harsens Island   \n",
       "2         2019.0       outboard-4s   26995.0    220570          Marietta   \n",
       "3            NaN          multiple  169995.0     34834  North Charleston   \n",
       "4         1994.0           inboard  109900.0     17942      Middle River   \n",
       "\n",
       "   state    zip created_date  created_month  created_year  \n",
       "0     FL  34224   2019-10-16             10          2019  \n",
       "1     MI  48028   2019-09-24              9          2019  \n",
       "2     OH  45750   2019-11-02             11          2019  \n",
       "3     SC  29405   2019-09-19              9          2019  \n",
       "4     MD  21220   2018-08-29              8          2018  \n",
       "\n",
       "[5 rows x 26 columns]"
      ]
     },
     "execution_count": 3,
     "metadata": {},
     "output_type": "execute_result"
    }
   ],
   "source": [
    "df.head(5)"
   ]
  },
  {
   "cell_type": "code",
   "execution_count": 4,
   "id": "74a37e7e-2460-4121-bff2-299a155cf3b7",
   "metadata": {},
   "outputs": [
    {
     "data": {
      "text/plain": [
       "0"
      ]
     },
     "execution_count": 4,
     "metadata": {},
     "output_type": "execute_result"
    }
   ],
   "source": [
    "df.duplicated().sum()"
   ]
  },
  {
   "cell_type": "code",
   "execution_count": 5,
   "id": "127d710a-048e-404a-ace5-598b74291225",
   "metadata": {},
   "outputs": [
    {
     "data": {
      "text/plain": [
       "(18903, 26)"
      ]
     },
     "execution_count": 5,
     "metadata": {},
     "output_type": "execute_result"
    }
   ],
   "source": [
    "df.shape"
   ]
  },
  {
   "cell_type": "code",
   "execution_count": 6,
   "id": "2fef9aa6-2792-4d82-810a-c3bc10ec5e83",
   "metadata": {},
   "outputs": [
    {
     "data": {
      "text/plain": [
       "Unnamed: 0         0.000000\n",
       "id                 0.000000\n",
       "type               0.000000\n",
       "boatClass          0.000000\n",
       "make               0.000000\n",
       "model              0.185156\n",
       "year               0.000000\n",
       "condition          0.000000\n",
       "length_ft          0.000000\n",
       "beam_ft           34.407237\n",
       "dryWeight_lb      62.471565\n",
       "hullMaterial       0.000000\n",
       "fuelType          15.616569\n",
       "numEngines         0.000000\n",
       "totalHP            4.486060\n",
       "maxEngineYear     88.335185\n",
       "minEngineYear     88.499180\n",
       "engineCategory    55.509707\n",
       "price              0.000000\n",
       "sellerId           0.000000\n",
       "city               0.296249\n",
       "state              0.000000\n",
       "zip               45.960959\n",
       "created_date       0.000000\n",
       "created_month      0.000000\n",
       "created_year       0.000000\n",
       "dtype: float64"
      ]
     },
     "execution_count": 6,
     "metadata": {},
     "output_type": "execute_result"
    }
   ],
   "source": [
    "df.isnull().mean() * 100"
   ]
  },
  {
   "cell_type": "code",
   "execution_count": 7,
   "id": "dbe6aeac-6bd9-40dc-8814-2b72214a17db",
   "metadata": {},
   "outputs": [],
   "source": [
    "df.drop(columns=['Unnamed: 0','id','dryWeight_lb','maxEngineYear','minEngineYear','engineCategory','sellerId','zip'],inplace=True)"
   ]
  },
  {
   "cell_type": "code",
   "execution_count": 8,
   "id": "848f5d33-ac18-44ab-ad52-dd4dbbd946f9",
   "metadata": {},
   "outputs": [
    {
     "data": {
      "text/html": [
       "<div>\n",
       "<style scoped>\n",
       "    .dataframe tbody tr th:only-of-type {\n",
       "        vertical-align: middle;\n",
       "    }\n",
       "\n",
       "    .dataframe tbody tr th {\n",
       "        vertical-align: top;\n",
       "    }\n",
       "\n",
       "    .dataframe thead th {\n",
       "        text-align: right;\n",
       "    }\n",
       "</style>\n",
       "<table border=\"1\" class=\"dataframe\">\n",
       "  <thead>\n",
       "    <tr style=\"text-align: right;\">\n",
       "      <th></th>\n",
       "      <th>type</th>\n",
       "      <th>boatClass</th>\n",
       "      <th>make</th>\n",
       "      <th>model</th>\n",
       "      <th>year</th>\n",
       "      <th>condition</th>\n",
       "      <th>length_ft</th>\n",
       "      <th>beam_ft</th>\n",
       "      <th>hullMaterial</th>\n",
       "      <th>fuelType</th>\n",
       "      <th>numEngines</th>\n",
       "      <th>totalHP</th>\n",
       "      <th>price</th>\n",
       "      <th>city</th>\n",
       "      <th>state</th>\n",
       "      <th>created_date</th>\n",
       "      <th>created_month</th>\n",
       "      <th>created_year</th>\n",
       "    </tr>\n",
       "  </thead>\n",
       "  <tbody>\n",
       "    <tr>\n",
       "      <th>0</th>\n",
       "      <td>power</td>\n",
       "      <td>power-center</td>\n",
       "      <td>Aquasport</td>\n",
       "      <td>210 CC</td>\n",
       "      <td>1992</td>\n",
       "      <td>used</td>\n",
       "      <td>21.0</td>\n",
       "      <td>8.50</td>\n",
       "      <td>fiberglass</td>\n",
       "      <td>gasoline</td>\n",
       "      <td>1</td>\n",
       "      <td>150.0</td>\n",
       "      <td>16500.0</td>\n",
       "      <td>Englewood</td>\n",
       "      <td>FL</td>\n",
       "      <td>2019-10-16</td>\n",
       "      <td>10</td>\n",
       "      <td>2019</td>\n",
       "    </tr>\n",
       "    <tr>\n",
       "      <th>1</th>\n",
       "      <td>power</td>\n",
       "      <td>power-sportcruiser</td>\n",
       "      <td>Formula</td>\n",
       "      <td>400 Super Sport</td>\n",
       "      <td>2018</td>\n",
       "      <td>used</td>\n",
       "      <td>40.0</td>\n",
       "      <td>11.00</td>\n",
       "      <td>fiberglass</td>\n",
       "      <td>diesel</td>\n",
       "      <td>2</td>\n",
       "      <td>800.0</td>\n",
       "      <td>539000.0</td>\n",
       "      <td>Harsens Island</td>\n",
       "      <td>MI</td>\n",
       "      <td>2019-09-24</td>\n",
       "      <td>9</td>\n",
       "      <td>2019</td>\n",
       "    </tr>\n",
       "    <tr>\n",
       "      <th>2</th>\n",
       "      <td>power</td>\n",
       "      <td>power-deck</td>\n",
       "      <td>Bayliner</td>\n",
       "      <td>Element 180</td>\n",
       "      <td>2020</td>\n",
       "      <td>new</td>\n",
       "      <td>18.0</td>\n",
       "      <td>7.42</td>\n",
       "      <td>fiberglass</td>\n",
       "      <td>gasoline</td>\n",
       "      <td>1</td>\n",
       "      <td>75.0</td>\n",
       "      <td>26995.0</td>\n",
       "      <td>Marietta</td>\n",
       "      <td>OH</td>\n",
       "      <td>2019-11-02</td>\n",
       "      <td>11</td>\n",
       "      <td>2019</td>\n",
       "    </tr>\n",
       "    <tr>\n",
       "      <th>3</th>\n",
       "      <td>power</td>\n",
       "      <td>power-expresscruiser</td>\n",
       "      <td>Regal</td>\n",
       "      <td>32 Express</td>\n",
       "      <td>2015</td>\n",
       "      <td>used</td>\n",
       "      <td>32.0</td>\n",
       "      <td>10.33</td>\n",
       "      <td>fiberglass</td>\n",
       "      <td>gasoline</td>\n",
       "      <td>2</td>\n",
       "      <td>600.0</td>\n",
       "      <td>169995.0</td>\n",
       "      <td>North Charleston</td>\n",
       "      <td>SC</td>\n",
       "      <td>2019-09-19</td>\n",
       "      <td>9</td>\n",
       "      <td>2019</td>\n",
       "    </tr>\n",
       "    <tr>\n",
       "      <th>4</th>\n",
       "      <td>power</td>\n",
       "      <td>power-aft</td>\n",
       "      <td>Carver</td>\n",
       "      <td>440 Aft Cabin Motor Yacht</td>\n",
       "      <td>1994</td>\n",
       "      <td>used</td>\n",
       "      <td>44.0</td>\n",
       "      <td>15.00</td>\n",
       "      <td>fiberglass</td>\n",
       "      <td>diesel</td>\n",
       "      <td>2</td>\n",
       "      <td>700.0</td>\n",
       "      <td>109900.0</td>\n",
       "      <td>Middle River</td>\n",
       "      <td>MD</td>\n",
       "      <td>2018-08-29</td>\n",
       "      <td>8</td>\n",
       "      <td>2018</td>\n",
       "    </tr>\n",
       "  </tbody>\n",
       "</table>\n",
       "</div>"
      ],
      "text/plain": [
       "    type             boatClass       make                      model  year  \\\n",
       "0  power          power-center  Aquasport                     210 CC  1992   \n",
       "1  power    power-sportcruiser    Formula            400 Super Sport  2018   \n",
       "2  power            power-deck   Bayliner                Element 180  2020   \n",
       "3  power  power-expresscruiser      Regal                 32 Express  2015   \n",
       "4  power             power-aft     Carver  440 Aft Cabin Motor Yacht  1994   \n",
       "\n",
       "  condition  length_ft  beam_ft hullMaterial  fuelType  numEngines  totalHP  \\\n",
       "0      used       21.0     8.50   fiberglass  gasoline           1    150.0   \n",
       "1      used       40.0    11.00   fiberglass    diesel           2    800.0   \n",
       "2       new       18.0     7.42   fiberglass  gasoline           1     75.0   \n",
       "3      used       32.0    10.33   fiberglass  gasoline           2    600.0   \n",
       "4      used       44.0    15.00   fiberglass    diesel           2    700.0   \n",
       "\n",
       "      price              city state created_date  created_month  created_year  \n",
       "0   16500.0         Englewood    FL   2019-10-16             10          2019  \n",
       "1  539000.0    Harsens Island    MI   2019-09-24              9          2019  \n",
       "2   26995.0          Marietta    OH   2019-11-02             11          2019  \n",
       "3  169995.0  North Charleston    SC   2019-09-19              9          2019  \n",
       "4  109900.0      Middle River    MD   2018-08-29              8          2018  "
      ]
     },
     "execution_count": 8,
     "metadata": {},
     "output_type": "execute_result"
    }
   ],
   "source": [
    "df.head()"
   ]
  },
  {
   "cell_type": "code",
   "execution_count": 9,
   "id": "5c782695-f7fa-4bfb-94bd-d2be5e57b746",
   "metadata": {},
   "outputs": [
    {
     "name": "stdout",
     "output_type": "stream",
     "text": [
      "<class 'pandas.core.frame.DataFrame'>\n",
      "RangeIndex: 18903 entries, 0 to 18902\n",
      "Data columns (total 18 columns):\n",
      " #   Column         Non-Null Count  Dtype  \n",
      "---  ------         --------------  -----  \n",
      " 0   type           18903 non-null  object \n",
      " 1   boatClass      18903 non-null  object \n",
      " 2   make           18903 non-null  object \n",
      " 3   model          18868 non-null  object \n",
      " 4   year           18903 non-null  int64  \n",
      " 5   condition      18903 non-null  object \n",
      " 6   length_ft      18903 non-null  float64\n",
      " 7   beam_ft        12399 non-null  float64\n",
      " 8   hullMaterial   18903 non-null  object \n",
      " 9   fuelType       15951 non-null  object \n",
      " 10  numEngines     18903 non-null  int64  \n",
      " 11  totalHP        18055 non-null  float64\n",
      " 12  price          18903 non-null  float64\n",
      " 13  city           18847 non-null  object \n",
      " 14  state          18903 non-null  object \n",
      " 15  created_date   18903 non-null  object \n",
      " 16  created_month  18903 non-null  int64  \n",
      " 17  created_year   18903 non-null  int64  \n",
      "dtypes: float64(4), int64(4), object(10)\n",
      "memory usage: 2.6+ MB\n"
     ]
    }
   ],
   "source": [
    "df.info()"
   ]
  },
  {
   "cell_type": "code",
   "execution_count": 10,
   "id": "78f913bd-e7cc-425c-aa2a-c7a5d64ebfb7",
   "metadata": {},
   "outputs": [],
   "source": [
    "df.fillna({'beam_ft':df['beam_ft'].mean()},inplace=True)\n",
    "df.fillna({'model':df['model'].mode()[0]},inplace=True)\n",
    "df.fillna({'fuelType':df['fuelType'].mode()[0]},inplace=True)\n",
    "df.fillna({'totalHP':df['totalHP'].mean()},inplace=True)\n",
    "df.fillna({'city':df['city'].mode()[0]},inplace=True)"
   ]
  },
  {
   "cell_type": "code",
   "execution_count": 11,
   "id": "4a484030-9669-4584-8d66-467e2b159293",
   "metadata": {},
   "outputs": [],
   "source": [
    "df['created_day'] = df['created_date'].str.split('-').str.get(2).astype('int32')\n",
    "df.drop(columns=['created_date'],inplace=True)"
   ]
  },
  {
   "cell_type": "code",
   "execution_count": 12,
   "id": "6c9ab1aa-cf1f-4be5-9048-261699dc96b3",
   "metadata": {},
   "outputs": [
    {
     "data": {
      "text/plain": [
       "type             0\n",
       "boatClass        0\n",
       "make             0\n",
       "model            0\n",
       "year             0\n",
       "condition        0\n",
       "length_ft        0\n",
       "beam_ft          0\n",
       "hullMaterial     0\n",
       "fuelType         0\n",
       "numEngines       0\n",
       "totalHP          0\n",
       "price            0\n",
       "city             0\n",
       "state            0\n",
       "created_month    0\n",
       "created_year     0\n",
       "created_day      0\n",
       "dtype: int64"
      ]
     },
     "execution_count": 12,
     "metadata": {},
     "output_type": "execute_result"
    }
   ],
   "source": [
    "df.isnull().sum()"
   ]
  },
  {
   "cell_type": "code",
   "execution_count": 13,
   "id": "f492c389-894f-44c1-b7bb-209115e2323d",
   "metadata": {},
   "outputs": [
    {
     "name": "stdout",
     "output_type": "stream",
     "text": [
      "<class 'pandas.core.frame.DataFrame'>\n",
      "RangeIndex: 18903 entries, 0 to 18902\n",
      "Data columns (total 18 columns):\n",
      " #   Column         Non-Null Count  Dtype  \n",
      "---  ------         --------------  -----  \n",
      " 0   type           18903 non-null  object \n",
      " 1   boatClass      18903 non-null  object \n",
      " 2   make           18903 non-null  object \n",
      " 3   model          18903 non-null  object \n",
      " 4   year           18903 non-null  int64  \n",
      " 5   condition      18903 non-null  object \n",
      " 6   length_ft      18903 non-null  float64\n",
      " 7   beam_ft        18903 non-null  float64\n",
      " 8   hullMaterial   18903 non-null  object \n",
      " 9   fuelType       18903 non-null  object \n",
      " 10  numEngines     18903 non-null  int64  \n",
      " 11  totalHP        18903 non-null  float64\n",
      " 12  price          18903 non-null  float64\n",
      " 13  city           18903 non-null  object \n",
      " 14  state          18903 non-null  object \n",
      " 15  created_month  18903 non-null  int64  \n",
      " 16  created_year   18903 non-null  int64  \n",
      " 17  created_day    18903 non-null  int32  \n",
      "dtypes: float64(4), int32(1), int64(4), object(9)\n",
      "memory usage: 2.5+ MB\n"
     ]
    }
   ],
   "source": [
    "df.info()"
   ]
  },
  {
   "cell_type": "code",
   "execution_count": 14,
   "id": "e5c71040-90c6-49d3-9180-ef44a17afc6c",
   "metadata": {},
   "outputs": [
    {
     "data": {
      "text/html": [
       "<div>\n",
       "<style scoped>\n",
       "    .dataframe tbody tr th:only-of-type {\n",
       "        vertical-align: middle;\n",
       "    }\n",
       "\n",
       "    .dataframe tbody tr th {\n",
       "        vertical-align: top;\n",
       "    }\n",
       "\n",
       "    .dataframe thead th {\n",
       "        text-align: right;\n",
       "    }\n",
       "</style>\n",
       "<table border=\"1\" class=\"dataframe\">\n",
       "  <thead>\n",
       "    <tr style=\"text-align: right;\">\n",
       "      <th></th>\n",
       "      <th>type</th>\n",
       "      <th>boatClass</th>\n",
       "      <th>make</th>\n",
       "      <th>model</th>\n",
       "      <th>year</th>\n",
       "      <th>condition</th>\n",
       "      <th>length_ft</th>\n",
       "      <th>beam_ft</th>\n",
       "      <th>hullMaterial</th>\n",
       "      <th>fuelType</th>\n",
       "      <th>numEngines</th>\n",
       "      <th>totalHP</th>\n",
       "      <th>price</th>\n",
       "      <th>city</th>\n",
       "      <th>state</th>\n",
       "      <th>created_month</th>\n",
       "      <th>created_year</th>\n",
       "      <th>created_day</th>\n",
       "    </tr>\n",
       "  </thead>\n",
       "  <tbody>\n",
       "    <tr>\n",
       "      <th>0</th>\n",
       "      <td>power</td>\n",
       "      <td>power-center</td>\n",
       "      <td>Aquasport</td>\n",
       "      <td>210 CC</td>\n",
       "      <td>1992</td>\n",
       "      <td>used</td>\n",
       "      <td>21.0</td>\n",
       "      <td>8.5</td>\n",
       "      <td>fiberglass</td>\n",
       "      <td>gasoline</td>\n",
       "      <td>1</td>\n",
       "      <td>150.0</td>\n",
       "      <td>16500.0</td>\n",
       "      <td>Englewood</td>\n",
       "      <td>FL</td>\n",
       "      <td>10</td>\n",
       "      <td>2019</td>\n",
       "      <td>16</td>\n",
       "    </tr>\n",
       "  </tbody>\n",
       "</table>\n",
       "</div>"
      ],
      "text/plain": [
       "    type     boatClass       make   model  year condition  length_ft  beam_ft  \\\n",
       "0  power  power-center  Aquasport  210 CC  1992      used       21.0      8.5   \n",
       "\n",
       "  hullMaterial  fuelType  numEngines  totalHP    price       city state  \\\n",
       "0   fiberglass  gasoline           1    150.0  16500.0  Englewood    FL   \n",
       "\n",
       "   created_month  created_year  created_day  \n",
       "0             10          2019           16  "
      ]
     },
     "execution_count": 14,
     "metadata": {},
     "output_type": "execute_result"
    }
   ],
   "source": [
    "df.head(1)"
   ]
  },
  {
   "cell_type": "code",
   "execution_count": 15,
   "id": "f7d4c484-3916-4f42-a771-bb995275494d",
   "metadata": {},
   "outputs": [],
   "source": [
    "df.drop_duplicates(inplace=True)"
   ]
  },
  {
   "cell_type": "code",
   "execution_count": 16,
   "id": "44d15b25-abd8-43f9-8d6d-f96593a037ce",
   "metadata": {},
   "outputs": [
    {
     "data": {
      "text/plain": [
       "(18001, 18)"
      ]
     },
     "execution_count": 16,
     "metadata": {},
     "output_type": "execute_result"
    }
   ],
   "source": [
    "df.shape"
   ]
  },
  {
   "cell_type": "code",
   "execution_count": 17,
   "id": "27910d7e-2bba-4bc5-8d0e-2be1e6d22d87",
   "metadata": {},
   "outputs": [
    {
     "data": {
      "text/html": [
       "<div>\n",
       "<style scoped>\n",
       "    .dataframe tbody tr th:only-of-type {\n",
       "        vertical-align: middle;\n",
       "    }\n",
       "\n",
       "    .dataframe tbody tr th {\n",
       "        vertical-align: top;\n",
       "    }\n",
       "\n",
       "    .dataframe thead th {\n",
       "        text-align: right;\n",
       "    }\n",
       "</style>\n",
       "<table border=\"1\" class=\"dataframe\">\n",
       "  <thead>\n",
       "    <tr style=\"text-align: right;\">\n",
       "      <th></th>\n",
       "      <th>year</th>\n",
       "      <th>length_ft</th>\n",
       "      <th>beam_ft</th>\n",
       "      <th>numEngines</th>\n",
       "      <th>totalHP</th>\n",
       "      <th>price</th>\n",
       "      <th>created_month</th>\n",
       "      <th>created_year</th>\n",
       "      <th>created_day</th>\n",
       "    </tr>\n",
       "  </thead>\n",
       "  <tbody>\n",
       "    <tr>\n",
       "      <th>count</th>\n",
       "      <td>18001.000000</td>\n",
       "      <td>18001.000000</td>\n",
       "      <td>18001.000000</td>\n",
       "      <td>18001.000000</td>\n",
       "      <td>18001.000000</td>\n",
       "      <td>1.800100e+04</td>\n",
       "      <td>18001.000000</td>\n",
       "      <td>18001.000000</td>\n",
       "      <td>18001.000000</td>\n",
       "    </tr>\n",
       "    <tr>\n",
       "      <th>mean</th>\n",
       "      <td>2012.838787</td>\n",
       "      <td>23.712992</td>\n",
       "      <td>15.596153</td>\n",
       "      <td>1.073607</td>\n",
       "      <td>117.970781</td>\n",
       "      <td>6.779370e+05</td>\n",
       "      <td>6.895228</td>\n",
       "      <td>2018.483251</td>\n",
       "      <td>15.893117</td>\n",
       "    </tr>\n",
       "    <tr>\n",
       "      <th>std</th>\n",
       "      <td>10.668959</td>\n",
       "      <td>13.474300</td>\n",
       "      <td>29.597685</td>\n",
       "      <td>0.434452</td>\n",
       "      <td>285.407828</td>\n",
       "      <td>7.490460e+07</td>\n",
       "      <td>3.030094</td>\n",
       "      <td>1.113283</td>\n",
       "      <td>8.991509</td>\n",
       "    </tr>\n",
       "    <tr>\n",
       "      <th>min</th>\n",
       "      <td>1910.000000</td>\n",
       "      <td>1.000000</td>\n",
       "      <td>0.080000</td>\n",
       "      <td>0.000000</td>\n",
       "      <td>0.000000</td>\n",
       "      <td>5.000000e+02</td>\n",
       "      <td>1.000000</td>\n",
       "      <td>2003.000000</td>\n",
       "      <td>1.000000</td>\n",
       "    </tr>\n",
       "    <tr>\n",
       "      <th>25%</th>\n",
       "      <td>2009.000000</td>\n",
       "      <td>18.170000</td>\n",
       "      <td>8.060000</td>\n",
       "      <td>1.000000</td>\n",
       "      <td>0.000000</td>\n",
       "      <td>1.951500e+04</td>\n",
       "      <td>4.000000</td>\n",
       "      <td>2018.000000</td>\n",
       "      <td>8.000000</td>\n",
       "    </tr>\n",
       "    <tr>\n",
       "      <th>50%</th>\n",
       "      <td>2019.000000</td>\n",
       "      <td>21.000000</td>\n",
       "      <td>9.000000</td>\n",
       "      <td>1.000000</td>\n",
       "      <td>0.000000</td>\n",
       "      <td>3.452900e+04</td>\n",
       "      <td>8.000000</td>\n",
       "      <td>2019.000000</td>\n",
       "      <td>17.000000</td>\n",
       "    </tr>\n",
       "    <tr>\n",
       "      <th>75%</th>\n",
       "      <td>2019.000000</td>\n",
       "      <td>25.000000</td>\n",
       "      <td>16.196930</td>\n",
       "      <td>1.000000</td>\n",
       "      <td>115.000000</td>\n",
       "      <td>5.856300e+04</td>\n",
       "      <td>9.000000</td>\n",
       "      <td>2019.000000</td>\n",
       "      <td>23.000000</td>\n",
       "    </tr>\n",
       "    <tr>\n",
       "      <th>max</th>\n",
       "      <td>2020.000000</td>\n",
       "      <td>375.000000</td>\n",
       "      <td>1311.000000</td>\n",
       "      <td>4.000000</td>\n",
       "      <td>7200.000000</td>\n",
       "      <td>1.000000e+10</td>\n",
       "      <td>12.000000</td>\n",
       "      <td>2019.000000</td>\n",
       "      <td>31.000000</td>\n",
       "    </tr>\n",
       "  </tbody>\n",
       "</table>\n",
       "</div>"
      ],
      "text/plain": [
       "               year     length_ft       beam_ft    numEngines       totalHP  \\\n",
       "count  18001.000000  18001.000000  18001.000000  18001.000000  18001.000000   \n",
       "mean    2012.838787     23.712992     15.596153      1.073607    117.970781   \n",
       "std       10.668959     13.474300     29.597685      0.434452    285.407828   \n",
       "min     1910.000000      1.000000      0.080000      0.000000      0.000000   \n",
       "25%     2009.000000     18.170000      8.060000      1.000000      0.000000   \n",
       "50%     2019.000000     21.000000      9.000000      1.000000      0.000000   \n",
       "75%     2019.000000     25.000000     16.196930      1.000000    115.000000   \n",
       "max     2020.000000    375.000000   1311.000000      4.000000   7200.000000   \n",
       "\n",
       "              price  created_month  created_year   created_day  \n",
       "count  1.800100e+04   18001.000000  18001.000000  18001.000000  \n",
       "mean   6.779370e+05       6.895228   2018.483251     15.893117  \n",
       "std    7.490460e+07       3.030094      1.113283      8.991509  \n",
       "min    5.000000e+02       1.000000   2003.000000      1.000000  \n",
       "25%    1.951500e+04       4.000000   2018.000000      8.000000  \n",
       "50%    3.452900e+04       8.000000   2019.000000     17.000000  \n",
       "75%    5.856300e+04       9.000000   2019.000000     23.000000  \n",
       "max    1.000000e+10      12.000000   2019.000000     31.000000  "
      ]
     },
     "execution_count": 17,
     "metadata": {},
     "output_type": "execute_result"
    }
   ],
   "source": [
    "df.describe()"
   ]
  },
  {
   "cell_type": "code",
   "execution_count": 18,
   "id": "e0ec07b8-38d5-4022-b517-98273d56a0ea",
   "metadata": {},
   "outputs": [],
   "source": [
    "out_col = ['length_ft','beam_ft','totalHP']"
   ]
  },
  {
   "cell_type": "code",
   "execution_count": 19,
   "id": "7ea14547-ce04-4cbc-ae40-dbb7214706ff",
   "metadata": {},
   "outputs": [
    {
     "data": {
      "image/png": "[encoded data removed]",
      "text/plain": [
       "<Figure size 1000x500 with 2 Axes>"
      ]
     },
     "metadata": {},
     "output_type": "display_data"
    },
    {
     "data": {
      "image/png": "[encoded data removed]",
      "text/plain": [
       "<Figure size 1000x500 with 2 Axes>"
      ]
     },
     "metadata": {},
     "output_type": "display_data"
    },
    {
     "data": {
      "image/png": "[encoded data removed]",
      "text/plain": [
       "<Figure size 1000x500 with 2 Axes>"
      ]
     },
     "metadata": {},
     "output_type": "display_data"
    }
   ],
   "source": [
    "for col in out_col:\n",
    "    plt.figure(figsize=(10,5))\n",
    "    plt.subplot(121)\n",
    "    sns.histplot(df[col])\n",
    "    \n",
    "    plt.subplot(122)\n",
    "    sns.boxplot(df[col])\n",
    "    plt.title(col)\n",
    "    plt.show()"
   ]
  },
  {
   "cell_type": "code",
   "execution_count": 20,
   "id": "8a275022-3ba7-4d87-8889-34f0e8562f87",
   "metadata": {},
   "outputs": [
    {
     "name": "stdout",
     "output_type": "stream",
     "text": [
      "7.925000000000004 35.245\n",
      "-4.295395596419066 28.492325994031777\n",
      "-172.5 287.5\n"
     ]
    }
   ],
   "source": [
    "for out in out_col:\n",
    "    q1 = df[out].quantile(0.25)\n",
    "    q3 = df[out].quantile(0.75)\n",
    "    IQR =  q3-q1\n",
    "    min = q1 - 1.5 * IQR\n",
    "    max = q3 + 1.5 * IQR\n",
    "    print(min,max)\n",
    "    df = df[(df[out] >=min) & (df[out] <=max)]"
   ]
  },
  {
   "cell_type": "code",
   "execution_count": 21,
   "id": "c88058ee-62cd-4f0b-b4a7-94f1d61442ee",
   "metadata": {},
   "outputs": [
    {
     "data": {
      "text/plain": [
       "(14516, 18)"
      ]
     },
     "execution_count": 21,
     "metadata": {},
     "output_type": "execute_result"
    }
   ],
   "source": [
    "df.shape"
   ]
  },
  {
   "cell_type": "code",
   "execution_count": 22,
   "id": "d1d8691a-676f-4edc-b10d-d7c65c68c743",
   "metadata": {},
   "outputs": [
    {
     "data": {
      "image/png": "[encoded data removed]",
      "text/plain": [
       "<Figure size 1000x500 with 2 Axes>"
      ]
     },
     "metadata": {},
     "output_type": "display_data"
    },
    {
     "data": {
      "image/png": "[encoded data removed]",
      "text/plain": [
       "<Figure size 1000x500 with 2 Axes>"
      ]
     },
     "metadata": {},
     "output_type": "display_data"
    },
    {
     "data": {
      "image/png": "[encoded data removed]",
      "text/plain": [
       "<Figure size 1000x500 with 2 Axes>"
      ]
     },
     "metadata": {},
     "output_type": "display_data"
    }
   ],
   "source": [
    "for col in out_col:\n",
    "    plt.figure(figsize=(10,5))\n",
    "    plt.subplot(121)\n",
    "    sns.histplot(df[col])\n",
    "    \n",
    "    plt.subplot(122)\n",
    "    sns.boxplot(df[col])\n",
    "    plt.title(col)\n",
    "    plt.show()"
   ]
  },
  {
   "cell_type": "code",
   "execution_count": 23,
   "id": "98e42367-e517-41ae-a466-1cd54d571187",
   "metadata": {},
   "outputs": [],
   "source": [
    "df = df.reset_index(drop=True)"
   ]
  },
  {
   "cell_type": "code",
   "execution_count": 24,
   "id": "3eefd8dd-2816-41db-a99d-deef23b9f9ba",
   "metadata": {},
   "outputs": [],
   "source": [
    "df1 = df.copy()"
   ]
  },
  {
   "cell_type": "code",
   "execution_count": 25,
   "id": "e803f4b8-9e40-4fa4-97a4-4c971ae8ac33",
   "metadata": {},
   "outputs": [
    {
     "data": {
      "text/html": [
       "<div>\n",
       "<style scoped>\n",
       "    .dataframe tbody tr th:only-of-type {\n",
       "        vertical-align: middle;\n",
       "    }\n",
       "\n",
       "    .dataframe tbody tr th {\n",
       "        vertical-align: top;\n",
       "    }\n",
       "\n",
       "    .dataframe thead th {\n",
       "        text-align: right;\n",
       "    }\n",
       "</style>\n",
       "<table border=\"1\" class=\"dataframe\">\n",
       "  <thead>\n",
       "    <tr style=\"text-align: right;\">\n",
       "      <th></th>\n",
       "      <th>type</th>\n",
       "      <th>boatClass</th>\n",
       "      <th>make</th>\n",
       "      <th>model</th>\n",
       "      <th>year</th>\n",
       "      <th>condition</th>\n",
       "      <th>length_ft</th>\n",
       "      <th>beam_ft</th>\n",
       "      <th>hullMaterial</th>\n",
       "      <th>fuelType</th>\n",
       "      <th>numEngines</th>\n",
       "      <th>totalHP</th>\n",
       "      <th>price</th>\n",
       "      <th>city</th>\n",
       "      <th>state</th>\n",
       "      <th>created_month</th>\n",
       "      <th>created_year</th>\n",
       "      <th>created_day</th>\n",
       "    </tr>\n",
       "  </thead>\n",
       "  <tbody>\n",
       "    <tr>\n",
       "      <th>0</th>\n",
       "      <td>power</td>\n",
       "      <td>power-center</td>\n",
       "      <td>Aquasport</td>\n",
       "      <td>210 CC</td>\n",
       "      <td>1992</td>\n",
       "      <td>used</td>\n",
       "      <td>21.0</td>\n",
       "      <td>8.50</td>\n",
       "      <td>fiberglass</td>\n",
       "      <td>gasoline</td>\n",
       "      <td>1</td>\n",
       "      <td>150.0</td>\n",
       "      <td>16500.0</td>\n",
       "      <td>Englewood</td>\n",
       "      <td>FL</td>\n",
       "      <td>10</td>\n",
       "      <td>2019</td>\n",
       "      <td>16</td>\n",
       "    </tr>\n",
       "    <tr>\n",
       "      <th>1</th>\n",
       "      <td>power</td>\n",
       "      <td>power-deck</td>\n",
       "      <td>Bayliner</td>\n",
       "      <td>Element 180</td>\n",
       "      <td>2020</td>\n",
       "      <td>new</td>\n",
       "      <td>18.0</td>\n",
       "      <td>7.42</td>\n",
       "      <td>fiberglass</td>\n",
       "      <td>gasoline</td>\n",
       "      <td>1</td>\n",
       "      <td>75.0</td>\n",
       "      <td>26995.0</td>\n",
       "      <td>Marietta</td>\n",
       "      <td>OH</td>\n",
       "      <td>11</td>\n",
       "      <td>2019</td>\n",
       "      <td>2</td>\n",
       "    </tr>\n",
       "    <tr>\n",
       "      <th>2</th>\n",
       "      <td>sail</td>\n",
       "      <td>sail-racercruiser</td>\n",
       "      <td>Newport</td>\n",
       "      <td>Mk III</td>\n",
       "      <td>1986</td>\n",
       "      <td>used</td>\n",
       "      <td>30.0</td>\n",
       "      <td>10.67</td>\n",
       "      <td>fiberglass</td>\n",
       "      <td>diesel</td>\n",
       "      <td>1</td>\n",
       "      <td>0.0</td>\n",
       "      <td>25500.0</td>\n",
       "      <td>Mystic</td>\n",
       "      <td>CT</td>\n",
       "      <td>3</td>\n",
       "      <td>2011</td>\n",
       "      <td>25</td>\n",
       "    </tr>\n",
       "    <tr>\n",
       "      <th>3</th>\n",
       "      <td>power</td>\n",
       "      <td>power-pontoon</td>\n",
       "      <td>Starcraft</td>\n",
       "      <td>EXS-3 Sport</td>\n",
       "      <td>2019</td>\n",
       "      <td>new</td>\n",
       "      <td>23.7</td>\n",
       "      <td>8.50</td>\n",
       "      <td>aluminum</td>\n",
       "      <td>gasoline</td>\n",
       "      <td>1</td>\n",
       "      <td>200.0</td>\n",
       "      <td>44507.0</td>\n",
       "      <td>Selbyville</td>\n",
       "      <td>DE</td>\n",
       "      <td>2</td>\n",
       "      <td>2019</td>\n",
       "      <td>13</td>\n",
       "    </tr>\n",
       "    <tr>\n",
       "      <th>4</th>\n",
       "      <td>sail</td>\n",
       "      <td>sail-cruiser</td>\n",
       "      <td>Hunter</td>\n",
       "      <td>30</td>\n",
       "      <td>1989</td>\n",
       "      <td>used</td>\n",
       "      <td>30.0</td>\n",
       "      <td>11.00</td>\n",
       "      <td>fiberglass</td>\n",
       "      <td>diesel</td>\n",
       "      <td>1</td>\n",
       "      <td>18.0</td>\n",
       "      <td>31000.0</td>\n",
       "      <td>Frisco</td>\n",
       "      <td>CO</td>\n",
       "      <td>11</td>\n",
       "      <td>2019</td>\n",
       "      <td>2</td>\n",
       "    </tr>\n",
       "  </tbody>\n",
       "</table>\n",
       "</div>"
      ],
      "text/plain": [
       "    type          boatClass       make        model  year condition  \\\n",
       "0  power       power-center  Aquasport       210 CC  1992      used   \n",
       "1  power         power-deck   Bayliner  Element 180  2020       new   \n",
       "2   sail  sail-racercruiser    Newport       Mk III  1986      used   \n",
       "3  power      power-pontoon  Starcraft  EXS-3 Sport  2019       new   \n",
       "4   sail       sail-cruiser     Hunter           30  1989      used   \n",
       "\n",
       "   length_ft  beam_ft hullMaterial  fuelType  numEngines  totalHP    price  \\\n",
       "0       21.0     8.50   fiberglass  gasoline           1    150.0  16500.0   \n",
       "1       18.0     7.42   fiberglass  gasoline           1     75.0  26995.0   \n",
       "2       30.0    10.67   fiberglass    diesel           1      0.0  25500.0   \n",
       "3       23.7     8.50     aluminum  gasoline           1    200.0  44507.0   \n",
       "4       30.0    11.00   fiberglass    diesel           1     18.0  31000.0   \n",
       "\n",
       "         city state  created_month  created_year  created_day  \n",
       "0   Englewood    FL             10          2019           16  \n",
       "1    Marietta    OH             11          2019            2  \n",
       "2      Mystic    CT              3          2011           25  \n",
       "3  Selbyville    DE              2          2019           13  \n",
       "4      Frisco    CO             11          2019            2  "
      ]
     },
     "execution_count": 25,
     "metadata": {},
     "output_type": "execute_result"
    }
   ],
   "source": [
    "df1.head()"
   ]
  },
  {
   "cell_type": "code",
   "execution_count": 26,
   "id": "5e38e30a-f206-4b75-8467-14bdb6fc2963",
   "metadata": {},
   "outputs": [
    {
     "name": "stdout",
     "output_type": "stream",
     "text": [
      "(12609, 18)\n"
     ]
    }
   ],
   "source": [
    "count  = df1['make'].value_counts()\n",
    "data =count[count>20].index\n",
    "df1 = df1[df1['make'].isin(data)]\n",
    "print(df1.shape)"
   ]
  },
  {
   "cell_type": "code",
   "execution_count": 27,
   "id": "e14d3268-9350-4260-937f-d762ba6225ff",
   "metadata": {},
   "outputs": [
    {
     "data": {
      "text/html": [
       "<div>\n",
       "<style scoped>\n",
       "    .dataframe tbody tr th:only-of-type {\n",
       "        vertical-align: middle;\n",
       "    }\n",
       "\n",
       "    .dataframe tbody tr th {\n",
       "        vertical-align: top;\n",
       "    }\n",
       "\n",
       "    .dataframe thead th {\n",
       "        text-align: right;\n",
       "    }\n",
       "</style>\n",
       "<table border=\"1\" class=\"dataframe\">\n",
       "  <thead>\n",
       "    <tr style=\"text-align: right;\">\n",
       "      <th></th>\n",
       "      <th>type</th>\n",
       "      <th>boatClass</th>\n",
       "      <th>make</th>\n",
       "      <th>model</th>\n",
       "      <th>year</th>\n",
       "      <th>condition</th>\n",
       "      <th>length_ft</th>\n",
       "      <th>beam_ft</th>\n",
       "      <th>hullMaterial</th>\n",
       "      <th>fuelType</th>\n",
       "      <th>numEngines</th>\n",
       "      <th>totalHP</th>\n",
       "      <th>price</th>\n",
       "      <th>city</th>\n",
       "      <th>state</th>\n",
       "      <th>created_month</th>\n",
       "      <th>created_year</th>\n",
       "      <th>created_day</th>\n",
       "    </tr>\n",
       "  </thead>\n",
       "  <tbody>\n",
       "    <tr>\n",
       "      <th>1</th>\n",
       "      <td>power</td>\n",
       "      <td>power-deck</td>\n",
       "      <td>Bayliner</td>\n",
       "      <td>Element 180</td>\n",
       "      <td>2020</td>\n",
       "      <td>new</td>\n",
       "      <td>18.00</td>\n",
       "      <td>7.42</td>\n",
       "      <td>fiberglass</td>\n",
       "      <td>gasoline</td>\n",
       "      <td>1</td>\n",
       "      <td>75.0</td>\n",
       "      <td>26995.0</td>\n",
       "      <td>Marietta</td>\n",
       "      <td>OH</td>\n",
       "      <td>11</td>\n",
       "      <td>2019</td>\n",
       "      <td>2</td>\n",
       "    </tr>\n",
       "    <tr>\n",
       "      <th>3</th>\n",
       "      <td>power</td>\n",
       "      <td>power-pontoon</td>\n",
       "      <td>Starcraft</td>\n",
       "      <td>EXS-3 Sport</td>\n",
       "      <td>2019</td>\n",
       "      <td>new</td>\n",
       "      <td>23.70</td>\n",
       "      <td>8.50</td>\n",
       "      <td>aluminum</td>\n",
       "      <td>gasoline</td>\n",
       "      <td>1</td>\n",
       "      <td>200.0</td>\n",
       "      <td>44507.0</td>\n",
       "      <td>Selbyville</td>\n",
       "      <td>DE</td>\n",
       "      <td>2</td>\n",
       "      <td>2019</td>\n",
       "      <td>13</td>\n",
       "    </tr>\n",
       "    <tr>\n",
       "      <th>5</th>\n",
       "      <td>power</td>\n",
       "      <td>power-bay</td>\n",
       "      <td>Xpress</td>\n",
       "      <td>Boats H22B</td>\n",
       "      <td>2019</td>\n",
       "      <td>new</td>\n",
       "      <td>22.00</td>\n",
       "      <td>7.75</td>\n",
       "      <td>aluminum</td>\n",
       "      <td>gasoline</td>\n",
       "      <td>1</td>\n",
       "      <td>175.0</td>\n",
       "      <td>36900.0</td>\n",
       "      <td>Fenton</td>\n",
       "      <td>MI</td>\n",
       "      <td>11</td>\n",
       "      <td>2018</td>\n",
       "      <td>27</td>\n",
       "    </tr>\n",
       "    <tr>\n",
       "      <th>6</th>\n",
       "      <td>power</td>\n",
       "      <td>power-bay</td>\n",
       "      <td>Xpress</td>\n",
       "      <td>Boats H20B</td>\n",
       "      <td>2019</td>\n",
       "      <td>new</td>\n",
       "      <td>20.00</td>\n",
       "      <td>7.75</td>\n",
       "      <td>aluminum</td>\n",
       "      <td>gasoline</td>\n",
       "      <td>1</td>\n",
       "      <td>115.0</td>\n",
       "      <td>22900.0</td>\n",
       "      <td>Fenton</td>\n",
       "      <td>MI</td>\n",
       "      <td>11</td>\n",
       "      <td>2018</td>\n",
       "      <td>27</td>\n",
       "    </tr>\n",
       "    <tr>\n",
       "      <th>7</th>\n",
       "      <td>power</td>\n",
       "      <td>power-pontoon</td>\n",
       "      <td>Sun Tracker</td>\n",
       "      <td>Party Barge 24 DLX</td>\n",
       "      <td>2019</td>\n",
       "      <td>new</td>\n",
       "      <td>26.17</td>\n",
       "      <td>8.50</td>\n",
       "      <td>aluminum</td>\n",
       "      <td>other</td>\n",
       "      <td>1</td>\n",
       "      <td>150.0</td>\n",
       "      <td>35360.0</td>\n",
       "      <td>Fairland</td>\n",
       "      <td>IN</td>\n",
       "      <td>8</td>\n",
       "      <td>2018</td>\n",
       "      <td>18</td>\n",
       "    </tr>\n",
       "  </tbody>\n",
       "</table>\n",
       "</div>"
      ],
      "text/plain": [
       "    type      boatClass         make               model  year condition  \\\n",
       "1  power     power-deck     Bayliner         Element 180  2020       new   \n",
       "3  power  power-pontoon    Starcraft         EXS-3 Sport  2019       new   \n",
       "5  power      power-bay       Xpress          Boats H22B  2019       new   \n",
       "6  power      power-bay       Xpress          Boats H20B  2019       new   \n",
       "7  power  power-pontoon  Sun Tracker  Party Barge 24 DLX  2019       new   \n",
       "\n",
       "   length_ft  beam_ft hullMaterial  fuelType  numEngines  totalHP    price  \\\n",
       "1      18.00     7.42   fiberglass  gasoline           1     75.0  26995.0   \n",
       "3      23.70     8.50     aluminum  gasoline           1    200.0  44507.0   \n",
       "5      22.00     7.75     aluminum  gasoline           1    175.0  36900.0   \n",
       "6      20.00     7.75     aluminum  gasoline           1    115.0  22900.0   \n",
       "7      26.17     8.50     aluminum     other           1    150.0  35360.0   \n",
       "\n",
       "         city state  created_month  created_year  created_day  \n",
       "1    Marietta    OH             11          2019            2  \n",
       "3  Selbyville    DE              2          2019           13  \n",
       "5      Fenton    MI             11          2018           27  \n",
       "6      Fenton    MI             11          2018           27  \n",
       "7    Fairland    IN              8          2018           18  "
      ]
     },
     "execution_count": 27,
     "metadata": {},
     "output_type": "execute_result"
    }
   ],
   "source": [
    "df1.head()"
   ]
  },
  {
   "cell_type": "code",
   "execution_count": 28,
   "id": "8740f7e1-3af7-4a3c-999a-d25a1450ea78",
   "metadata": {},
   "outputs": [
    {
     "data": {
      "text/plain": [
       "(12609, 18)"
      ]
     },
     "execution_count": 28,
     "metadata": {},
     "output_type": "execute_result"
    }
   ],
   "source": [
    "df1.shape"
   ]
  },
  {
   "cell_type": "code",
   "execution_count": 29,
   "id": "5dcaddf7-3442-426e-8ffc-4e4c03c63f6d",
   "metadata": {},
   "outputs": [
    {
     "data": {
      "text/plain": [
       "0"
      ]
     },
     "execution_count": 29,
     "metadata": {},
     "output_type": "execute_result"
    }
   ],
   "source": [
    "df1.duplicated().sum()"
   ]
  },
  {
   "cell_type": "code",
   "execution_count": 30,
   "id": "c4c53b4c-3261-468b-885b-89df266f2f5d",
   "metadata": {},
   "outputs": [],
   "source": [
    "df2 = df1.copy()"
   ]
  },
  {
   "cell_type": "code",
   "execution_count": 31,
   "id": "7fbe5b2c-203e-4726-ab7b-bc3f7e733da6",
   "metadata": {},
   "outputs": [
    {
     "data": {
      "text/html": [
       "<div>\n",
       "<style scoped>\n",
       "    .dataframe tbody tr th:only-of-type {\n",
       "        vertical-align: middle;\n",
       "    }\n",
       "\n",
       "    .dataframe tbody tr th {\n",
       "        vertical-align: top;\n",
       "    }\n",
       "\n",
       "    .dataframe thead th {\n",
       "        text-align: right;\n",
       "    }\n",
       "</style>\n",
       "<table border=\"1\" class=\"dataframe\">\n",
       "  <thead>\n",
       "    <tr style=\"text-align: right;\">\n",
       "      <th></th>\n",
       "      <th>type</th>\n",
       "      <th>boatClass</th>\n",
       "      <th>make</th>\n",
       "      <th>model</th>\n",
       "      <th>year</th>\n",
       "      <th>condition</th>\n",
       "      <th>length_ft</th>\n",
       "      <th>beam_ft</th>\n",
       "      <th>hullMaterial</th>\n",
       "      <th>fuelType</th>\n",
       "      <th>numEngines</th>\n",
       "      <th>totalHP</th>\n",
       "      <th>price</th>\n",
       "      <th>city</th>\n",
       "      <th>state</th>\n",
       "      <th>created_month</th>\n",
       "      <th>created_year</th>\n",
       "      <th>created_day</th>\n",
       "    </tr>\n",
       "  </thead>\n",
       "  <tbody>\n",
       "    <tr>\n",
       "      <th>1</th>\n",
       "      <td>power</td>\n",
       "      <td>power-deck</td>\n",
       "      <td>Bayliner</td>\n",
       "      <td>Element 180</td>\n",
       "      <td>2020</td>\n",
       "      <td>new</td>\n",
       "      <td>18.0</td>\n",
       "      <td>7.42</td>\n",
       "      <td>fiberglass</td>\n",
       "      <td>gasoline</td>\n",
       "      <td>1</td>\n",
       "      <td>75.0</td>\n",
       "      <td>26995.0</td>\n",
       "      <td>Marietta</td>\n",
       "      <td>OH</td>\n",
       "      <td>11</td>\n",
       "      <td>2019</td>\n",
       "      <td>2</td>\n",
       "    </tr>\n",
       "  </tbody>\n",
       "</table>\n",
       "</div>"
      ],
      "text/plain": [
       "    type   boatClass      make        model  year condition  length_ft  \\\n",
       "1  power  power-deck  Bayliner  Element 180  2020       new       18.0   \n",
       "\n",
       "   beam_ft hullMaterial  fuelType  numEngines  totalHP    price      city  \\\n",
       "1     7.42   fiberglass  gasoline           1     75.0  26995.0  Marietta   \n",
       "\n",
       "  state  created_month  created_year  created_day  \n",
       "1    OH             11          2019            2  "
      ]
     },
     "execution_count": 31,
     "metadata": {},
     "output_type": "execute_result"
    }
   ],
   "source": [
    "df2.head(1)"
   ]
  },
  {
   "cell_type": "code",
   "execution_count": 32,
   "id": "62d83da1-7e09-4392-899d-fe0b1ae76558",
   "metadata": {},
   "outputs": [],
   "source": [
    "X = df2.drop(columns=['price'])\n",
    "Y  = df2['price']"
   ]
  },
  {
   "cell_type": "code",
   "execution_count": 33,
   "id": "e913c4e0-4d8e-4f54-abe4-b7d68ea03085",
   "metadata": {},
   "outputs": [],
   "source": [
    "from sklearn.model_selection import train_test_split\n",
    "x_train,x_test,y_train,y_test = train_test_split(X, Y, test_size=0.2,random_state=42)"
   ]
  },
  {
   "cell_type": "code",
   "execution_count": 34,
   "id": "9e525d5f-0d7b-44c6-9f0f-5509faf7ece2",
   "metadata": {},
   "outputs": [],
   "source": [
    "from sklearn.preprocessing import OneHotEncoder,StandardScaler\n",
    "from sklearn.pipeline import make_pipeline\n",
    "from sklearn.compose import ColumnTransformer\n",
    "from sklearn.metrics import r2_score\n",
    "from sklearn.tree import DecisionTreeRegressor\n",
    "import xgboost as xgb"
   ]
  },
  {
   "cell_type": "code",
   "execution_count": 35,
   "id": "65fe089e-43df-4dfa-853e-f34de8cc838c",
   "metadata": {},
   "outputs": [],
   "source": [
    "trf1 = ColumnTransformer([\n",
    "    ('One', OneHotEncoder(sparse_output=False, handle_unknown='ignore', drop='first', categories='auto'), [0, 1, 2, 3, 5, 8, 9, 12, 13])\n",
    "], remainder='passthrough')"
   ]
  },
  {
   "cell_type": "code",
   "execution_count": 36,
   "id": "5f4b5ebd-deb2-46d3-9fa0-ce22cf0dfd2d",
   "metadata": {},
   "outputs": [],
   "source": [
    "trf2 = StandardScaler()"
   ]
  },
  {
   "cell_type": "code",
   "execution_count": 37,
   "id": "c77282be-22a8-4c38-b42a-5aa2dfeb4b9f",
   "metadata": {},
   "outputs": [],
   "source": [
    "trf3 = xgb.XGBRegressor()"
   ]
  },
  {
   "cell_type": "code",
   "execution_count": 38,
   "id": "0486b3f9-5585-40d5-84c3-877f56b23ba5",
   "metadata": {},
   "outputs": [],
   "source": [
    "pipe = make_pipeline(trf1,trf2,trf3)"
   ]
  },
  {
   "cell_type": "code",
   "execution_count": 39,
   "id": "518269da-d256-4077-8a55-f17ccad328bc",
   "metadata": {},
   "outputs": [
    {
     "data": {
      "text/html": [
       "<style>#sk-container-id-1 {color: black;}#sk-container-id-1 pre{padding: 0;}#sk-container-id-1 div.sk-toggleable {background-color: white;}#sk-container-id-1 label.sk-toggleable__label {cursor: pointer;display: block;width: 100%;margin-bottom: 0;padding: 0.3em;box-sizing: border-box;text-align: center;}#sk-container-id-1 label.sk-toggleable__label-arrow:before {content: \"▸\";float: left;margin-right: 0.25em;color: #696969;}#sk-container-id-1 label.sk-toggleable__label-arrow:hover:before {color: black;}#sk-container-id-1 div.sk-estimator:hover label.sk-toggleable__label-arrow:before {color: black;}#sk-container-id-1 div.sk-toggleable__content {max-height: 0;max-width: 0;overflow: hidden;text-align: left;background-color: #f0f8ff;}#sk-container-id-1 div.sk-toggleable__content pre {margin: 0.2em;color: black;border-radius: 0.25em;background-color: #f0f8ff;}#sk-container-id-1 input.sk-toggleable__control:checked~div.sk-toggleable__content {max-height: 200px;max-width: 100%;overflow: auto;}#sk-container-id-1 input.sk-toggleable__control:checked~label.sk-toggleable__label-arrow:before {content: \"▾\";}#sk-container-id-1 div.sk-estimator input.sk-toggleable__control:checked~label.sk-toggleable__label {background-color: #d4ebff;}#sk-container-id-1 div.sk-label input.sk-toggleable__control:checked~label.sk-toggleable__label {background-color: #d4ebff;}#sk-container-id-1 input.sk-hidden--visually {border: 0;clip: rect(1px 1px 1px 1px);clip: rect(1px, 1px, 1px, 1px);height: 1px;margin: -1px;overflow: hidden;padding: 0;position: absolute;width: 1px;}#sk-container-id-1 div.sk-estimator {font-family: monospace;background-color: #f0f8ff;border: 1px dotted black;border-radius: 0.25em;box-sizing: border-box;margin-bottom: 0.5em;}#sk-container-id-1 div.sk-estimator:hover {background-color: #d4ebff;}#sk-container-id-1 div.sk-parallel-item::after {content: \"\";width: 100%;border-bottom: 1px solid gray;flex-grow: 1;}#sk-container-id-1 div.sk-label:hover label.sk-toggleable__label {background-color: #d4ebff;}#sk-container-id-1 div.sk-serial::before {content: \"\";position: absolute;border-left: 1px solid gray;box-sizing: border-box;top: 0;bottom: 0;left: 50%;z-index: 0;}#sk-container-id-1 div.sk-serial {display: flex;flex-direction: column;align-items: center;background-color: white;padding-right: 0.2em;padding-left: 0.2em;position: relative;}#sk-container-id-1 div.sk-item {position: relative;z-index: 1;}#sk-container-id-1 div.sk-parallel {display: flex;align-items: stretch;justify-content: center;background-color: white;position: relative;}#sk-container-id-1 div.sk-item::before, #sk-container-id-1 div.sk-parallel-item::before {content: \"\";position: absolute;border-left: 1px solid gray;box-sizing: border-box;top: 0;bottom: 0;left: 50%;z-index: -1;}#sk-container-id-1 div.sk-parallel-item {display: flex;flex-direction: column;z-index: 1;position: relative;background-color: white;}#sk-container-id-1 div.sk-parallel-item:first-child::after {align-self: flex-end;width: 50%;}#sk-container-id-1 div.sk-parallel-item:last-child::after {align-self: flex-start;width: 50%;}#sk-container-id-1 div.sk-parallel-item:only-child::after {width: 0;}#sk-container-id-1 div.sk-dashed-wrapped {border: 1px dashed gray;margin: 0 0.4em 0.5em 0.4em;box-sizing: border-box;padding-bottom: 0.4em;background-color: white;}#sk-container-id-1 div.sk-label label {font-family: monospace;font-weight: bold;display: inline-block;line-height: 1.2em;}#sk-container-id-1 div.sk-label-container {text-align: center;}#sk-container-id-1 div.sk-container {/* jupyter's `normalize.less` sets `[hidden] { display: none; }` but bootstrap.min.css set `[hidden] { display: none !important; }` so we also need the `!important` here to be able to override the default hidden behavior on the sphinx rendered scikit-learn.org. See: https://github.com/scikit-learn/scikit-learn/issues/21755 */display: inline-block !important;position: relative;}#sk-container-id-1 div.sk-text-repr-fallback {display: none;}</style><div id=\"sk-container-id-1\" class=\"sk-top-container\"><div class=\"sk-text-repr-fallback\"><pre>Pipeline(steps=[(&#x27;columntransformer&#x27;,\n",
       "                 ColumnTransformer(remainder=&#x27;passthrough&#x27;,\n",
       "                                   transformers=[(&#x27;One&#x27;,\n",
       "                                                  OneHotEncoder(drop=&#x27;first&#x27;,\n",
       "                                                                handle_unknown=&#x27;ignore&#x27;,\n",
       "                                                                sparse_output=False),\n",
       "                                                  [0, 1, 2, 3, 5, 8, 9, 12,\n",
       "                                                   13])])),\n",
       "                (&#x27;standardscaler&#x27;, StandardScaler()),\n",
       "                (&#x27;xgbregressor&#x27;,\n",
       "                 XGBRegressor(base_score=None, booster=None, callbacks=None,\n",
       "                              colsample_bylevel=None, colsample_bynode=Non...\n",
       "                              feature_types=None, gamma=None, grow_policy=None,\n",
       "                              importance_type=None,\n",
       "                              interaction_constraints=None, learning_rate=None,\n",
       "                              max_bin=None, max_cat_threshold=None,\n",
       "                              max_cat_to_onehot=None, max_delta_step=None,\n",
       "                              max_depth=None, max_leaves=None,\n",
       "                              min_child_weight=None, missing=nan,\n",
       "                              monotone_constraints=None, multi_strategy=None,\n",
       "                              n_estimators=None, n_jobs=None,\n",
       "                              num_parallel_tree=None, random_state=None, ...))])</pre><b>In a Jupyter environment, please rerun this cell to show the HTML representation or trust the notebook. <br />On GitHub, the HTML representation is unable to render, please try loading this page with nbviewer.org.</b></div><div class=\"sk-container\" hidden><div class=\"sk-item sk-dashed-wrapped\"><div class=\"sk-label-container\"><div class=\"sk-label sk-toggleable\"><input class=\"sk-toggleable__control sk-hidden--visually\" id=\"sk-estimator-id-1\" type=\"checkbox\" ><label for=\"sk-estimator-id-1\" class=\"sk-toggleable__label sk-toggleable__label-arrow\">Pipeline</label><div class=\"sk-toggleable__content\"><pre>Pipeline(steps=[(&#x27;columntransformer&#x27;,\n",
       "                 ColumnTransformer(remainder=&#x27;passthrough&#x27;,\n",
       "                                   transformers=[(&#x27;One&#x27;,\n",
       "                                                  OneHotEncoder(drop=&#x27;first&#x27;,\n",
       "                                                                handle_unknown=&#x27;ignore&#x27;,\n",
       "                                                                sparse_output=False),\n",
       "                                                  [0, 1, 2, 3, 5, 8, 9, 12,\n",
       "                                                   13])])),\n",
       "                (&#x27;standardscaler&#x27;, StandardScaler()),\n",
       "                (&#x27;xgbregressor&#x27;,\n",
       "                 XGBRegressor(base_score=None, booster=None, callbacks=None,\n",
       "                              colsample_bylevel=None, colsample_bynode=Non...\n",
       "                              feature_types=None, gamma=None, grow_policy=None,\n",
       "                              importance_type=None,\n",
       "                              interaction_constraints=None, learning_rate=None,\n",
       "                              max_bin=None, max_cat_threshold=None,\n",
       "                              max_cat_to_onehot=None, max_delta_step=None,\n",
       "                              max_depth=None, max_leaves=None,\n",
       "                              min_child_weight=None, missing=nan,\n",
       "                              monotone_constraints=None, multi_strategy=None,\n",
       "                              n_estimators=None, n_jobs=None,\n",
       "                              num_parallel_tree=None, random_state=None, ...))])</pre></div></div></div><div class=\"sk-serial\"><div class=\"sk-item sk-dashed-wrapped\"><div class=\"sk-label-container\"><div class=\"sk-label sk-toggleable\"><input class=\"sk-toggleable__control sk-hidden--visually\" id=\"sk-estimator-id-2\" type=\"checkbox\" ><label for=\"sk-estimator-id-2\" class=\"sk-toggleable__label sk-toggleable__label-arrow\">columntransformer: ColumnTransformer</label><div class=\"sk-toggleable__content\"><pre>ColumnTransformer(remainder=&#x27;passthrough&#x27;,\n",
       "                  transformers=[(&#x27;One&#x27;,\n",
       "                                 OneHotEncoder(drop=&#x27;first&#x27;,\n",
       "                                               handle_unknown=&#x27;ignore&#x27;,\n",
       "                                               sparse_output=False),\n",
       "                                 [0, 1, 2, 3, 5, 8, 9, 12, 13])])</pre></div></div></div><div class=\"sk-parallel\"><div class=\"sk-parallel-item\"><div class=\"sk-item\"><div class=\"sk-label-container\"><div class=\"sk-label sk-toggleable\"><input class=\"sk-toggleable__control sk-hidden--visually\" id=\"sk-estimator-id-3\" type=\"checkbox\" ><label for=\"sk-estimator-id-3\" class=\"sk-toggleable__label sk-toggleable__label-arrow\">One</label><div class=\"sk-toggleable__content\"><pre>[0, 1, 2, 3, 5, 8, 9, 12, 13]</pre></div></div></div><div class=\"sk-serial\"><div class=\"sk-item\"><div class=\"sk-estimator sk-toggleable\"><input class=\"sk-toggleable__control sk-hidden--visually\" id=\"sk-estimator-id-4\" type=\"checkbox\" ><label for=\"sk-estimator-id-4\" class=\"sk-toggleable__label sk-toggleable__label-arrow\">OneHotEncoder</label><div class=\"sk-toggleable__content\"><pre>OneHotEncoder(drop=&#x27;first&#x27;, handle_unknown=&#x27;ignore&#x27;, sparse_output=False)</pre></div></div></div></div></div></div><div class=\"sk-parallel-item\"><div class=\"sk-item\"><div class=\"sk-label-container\"><div class=\"sk-label sk-toggleable\"><input class=\"sk-toggleable__control sk-hidden--visually\" id=\"sk-estimator-id-5\" type=\"checkbox\" ><label for=\"sk-estimator-id-5\" class=\"sk-toggleable__label sk-toggleable__label-arrow\">remainder</label><div class=\"sk-toggleable__content\"><pre>[&#x27;year&#x27;, &#x27;length_ft&#x27;, &#x27;beam_ft&#x27;, &#x27;numEngines&#x27;, &#x27;totalHP&#x27;, &#x27;created_month&#x27;, &#x27;created_year&#x27;, &#x27;created_day&#x27;]</pre></div></div></div><div class=\"sk-serial\"><div class=\"sk-item\"><div class=\"sk-estimator sk-toggleable\"><input class=\"sk-toggleable__control sk-hidden--visually\" id=\"sk-estimator-id-6\" type=\"checkbox\" ><label for=\"sk-estimator-id-6\" class=\"sk-toggleable__label sk-toggleable__label-arrow\">passthrough</label><div class=\"sk-toggleable__content\"><pre>passthrough</pre></div></div></div></div></div></div></div></div><div class=\"sk-item\"><div class=\"sk-estimator sk-toggleable\"><input class=\"sk-toggleable__control sk-hidden--visually\" id=\"sk-estimator-id-7\" type=\"checkbox\" ><label for=\"sk-estimator-id-7\" class=\"sk-toggleable__label sk-toggleable__label-arrow\">StandardScaler</label><div class=\"sk-toggleable__content\"><pre>StandardScaler()</pre></div></div></div><div class=\"sk-item\"><div class=\"sk-estimator sk-toggleable\"><input class=\"sk-toggleable__control sk-hidden--visually\" id=\"sk-estimator-id-8\" type=\"checkbox\" ><label for=\"sk-estimator-id-8\" class=\"sk-toggleable__label sk-toggleable__label-arrow\">XGBRegressor</label><div class=\"sk-toggleable__content\"><pre>XGBRegressor(base_score=None, booster=None, callbacks=None,\n",
       "             colsample_bylevel=None, colsample_bynode=None,\n",
       "             colsample_bytree=None, device=None, early_stopping_rounds=None,\n",
       "             enable_categorical=False, eval_metric=None, feature_types=None,\n",
       "             gamma=None, grow_policy=None, importance_type=None,\n",
       "             interaction_constraints=None, learning_rate=None, max_bin=None,\n",
       "             max_cat_threshold=None, max_cat_to_onehot=None,\n",
       "             max_delta_step=None, max_depth=None, max_leaves=None,\n",
       "             min_child_weight=None, missing=nan, monotone_constraints=None,\n",
       "             multi_strategy=None, n_estimators=None, n_jobs=None,\n",
       "             num_parallel_tree=None, random_state=None, ...)</pre></div></div></div></div></div></div></div>"
      ],
      "text/plain": [
       "Pipeline(steps=[('columntransformer',\n",
       "                 ColumnTransformer(remainder='passthrough',\n",
       "                                   transformers=[('One',\n",
       "                                                  OneHotEncoder(drop='first',\n",
       "                                                                handle_unknown='ignore',\n",
       "                                                                sparse_output=False),\n",
       "                                                  [0, 1, 2, 3, 5, 8, 9, 12,\n",
       "                                                   13])])),\n",
       "                ('standardscaler', StandardScaler()),\n",
       "                ('xgbregressor',\n",
       "                 XGBRegressor(base_score=None, booster=None, callbacks=None,\n",
       "                              colsample_bylevel=None, colsample_bynode=Non...\n",
       "                              feature_types=None, gamma=None, grow_policy=None,\n",
       "                              importance_type=None,\n",
       "                              interaction_constraints=None, learning_rate=None,\n",
       "                              max_bin=None, max_cat_threshold=None,\n",
       "                              max_cat_to_onehot=None, max_delta_step=None,\n",
       "                              max_depth=None, max_leaves=None,\n",
       "                              min_child_weight=None, missing=nan,\n",
       "                              monotone_constraints=None, multi_strategy=None,\n",
       "                              n_estimators=None, n_jobs=None,\n",
       "                              num_parallel_tree=None, random_state=None, ...))])"
      ]
     },
     "execution_count": 39,
     "metadata": {},
     "output_type": "execute_result"
    }
   ],
   "source": [
    "pipe.fit(x_train,y_train)"
   ]
  },
  {
   "cell_type": "code",
   "execution_count": 40,
   "id": "0bccd8a9-9e06-446a-ab1a-5a4872a753cc",
   "metadata": {},
   "outputs": [
    {
     "name": "stdout",
     "output_type": "stream",
     "text": [
      "0.963971690440119\n",
      "0.928345067043603\n"
     ]
    }
   ],
   "source": [
    "print(pipe.score(x_train,y_train))\n",
    "print(pipe.score(x_test,y_test))"
   ]
  },
  {
   "cell_type": "code",
   "execution_count": 41,
   "id": "cb6b9443-95ac-4daa-931f-b2a0f5ecb8e9",
   "metadata": {},
   "outputs": [],
   "source": [
    "y_pred = pipe.predict(x_test)"
   ]
  },
  {
   "cell_type": "code",
   "execution_count": 42,
   "id": "04472516-1343-44cb-befd-41eed73ae3a0",
   "metadata": {},
   "outputs": [
    {
     "data": {
      "text/plain": [
       "0.928345067043603"
      ]
     },
     "execution_count": 42,
     "metadata": {},
     "output_type": "execute_result"
    }
   ],
   "source": [
    "r2_score(y_test,y_pred)"
   ]
  },
  {
   "cell_type": "code",
   "execution_count": 43,
   "id": "45dee978-4270-4243-8456-6d68b58c9342",
   "metadata": {},
   "outputs": [],
   "source": [
    "from sklearn.model_selection import GridSearchCV"
   ]
  },
  {
   "cell_type": "code",
   "execution_count": 44,
   "id": "56f11091-9ed7-4fc5-b4fd-857c79cfaaaa",
   "metadata": {},
   "outputs": [],
   "source": [
    "param_grid = {\n",
    "    'xgbregressor__n_estimators': [300,400],\n",
    "    'xgbregressor__max_depth': [5,6],\n",
    "}"
   ]
  },
  {
   "cell_type": "code",
   "execution_count": 45,
   "id": "72727e77-682d-48a4-88de-ea173c96f7cc",
   "metadata": {},
   "outputs": [],
   "source": [
    "model = GridSearchCV(pipe,param_grid=param_grid,cv=2,verbose=1,n_jobs=-1)"
   ]
  },
  {
   "cell_type": "code",
   "execution_count": 46,
   "id": "d32b7be1-2081-463b-a4e7-23604e687b25",
   "metadata": {},
   "outputs": [
    {
     "name": "stdout",
     "output_type": "stream",
     "text": [
      "Fitting 2 folds for each of 4 candidates, totalling 8 fits\n"
     ]
    },
    {
     "data": {
      "text/html": [
       "<style>#sk-container-id-2 {color: black;}#sk-container-id-2 pre{padding: 0;}#sk-container-id-2 div.sk-toggleable {background-color: white;}#sk-container-id-2 label.sk-toggleable__label {cursor: pointer;display: block;width: 100%;margin-bottom: 0;padding: 0.3em;box-sizing: border-box;text-align: center;}#sk-container-id-2 label.sk-toggleable__label-arrow:before {content: \"▸\";float: left;margin-right: 0.25em;color: #696969;}#sk-container-id-2 label.sk-toggleable__label-arrow:hover:before {color: black;}#sk-container-id-2 div.sk-estimator:hover label.sk-toggleable__label-arrow:before {color: black;}#sk-container-id-2 div.sk-toggleable__content {max-height: 0;max-width: 0;overflow: hidden;text-align: left;background-color: #f0f8ff;}#sk-container-id-2 div.sk-toggleable__content pre {margin: 0.2em;color: black;border-radius: 0.25em;background-color: #f0f8ff;}#sk-container-id-2 input.sk-toggleable__control:checked~div.sk-toggleable__content {max-height: 200px;max-width: 100%;overflow: auto;}#sk-container-id-2 input.sk-toggleable__control:checked~label.sk-toggleable__label-arrow:before {content: \"▾\";}#sk-container-id-2 div.sk-estimator input.sk-toggleable__control:checked~label.sk-toggleable__label {background-color: #d4ebff;}#sk-container-id-2 div.sk-label input.sk-toggleable__control:checked~label.sk-toggleable__label {background-color: #d4ebff;}#sk-container-id-2 input.sk-hidden--visually {border: 0;clip: rect(1px 1px 1px 1px);clip: rect(1px, 1px, 1px, 1px);height: 1px;margin: -1px;overflow: hidden;padding: 0;position: absolute;width: 1px;}#sk-container-id-2 div.sk-estimator {font-family: monospace;background-color: #f0f8ff;border: 1px dotted black;border-radius: 0.25em;box-sizing: border-box;margin-bottom: 0.5em;}#sk-container-id-2 div.sk-estimator:hover {background-color: #d4ebff;}#sk-container-id-2 div.sk-parallel-item::after {content: \"\";width: 100%;border-bottom: 1px solid gray;flex-grow: 1;}#sk-container-id-2 div.sk-label:hover label.sk-toggleable__label {background-color: #d4ebff;}#sk-container-id-2 div.sk-serial::before {content: \"\";position: absolute;border-left: 1px solid gray;box-sizing: border-box;top: 0;bottom: 0;left: 50%;z-index: 0;}#sk-container-id-2 div.sk-serial {display: flex;flex-direction: column;align-items: center;background-color: white;padding-right: 0.2em;padding-left: 0.2em;position: relative;}#sk-container-id-2 div.sk-item {position: relative;z-index: 1;}#sk-container-id-2 div.sk-parallel {display: flex;align-items: stretch;justify-content: center;background-color: white;position: relative;}#sk-container-id-2 div.sk-item::before, #sk-container-id-2 div.sk-parallel-item::before {content: \"\";position: absolute;border-left: 1px solid gray;box-sizing: border-box;top: 0;bottom: 0;left: 50%;z-index: -1;}#sk-container-id-2 div.sk-parallel-item {display: flex;flex-direction: column;z-index: 1;position: relative;background-color: white;}#sk-container-id-2 div.sk-parallel-item:first-child::after {align-self: flex-end;width: 50%;}#sk-container-id-2 div.sk-parallel-item:last-child::after {align-self: flex-start;width: 50%;}#sk-container-id-2 div.sk-parallel-item:only-child::after {width: 0;}#sk-container-id-2 div.sk-dashed-wrapped {border: 1px dashed gray;margin: 0 0.4em 0.5em 0.4em;box-sizing: border-box;padding-bottom: 0.4em;background-color: white;}#sk-container-id-2 div.sk-label label {font-family: monospace;font-weight: bold;display: inline-block;line-height: 1.2em;}#sk-container-id-2 div.sk-label-container {text-align: center;}#sk-container-id-2 div.sk-container {/* jupyter's `normalize.less` sets `[hidden] { display: none; }` but bootstrap.min.css set `[hidden] { display: none !important; }` so we also need the `!important` here to be able to override the default hidden behavior on the sphinx rendered scikit-learn.org. See: https://github.com/scikit-learn/scikit-learn/issues/21755 */display: inline-block !important;position: relative;}#sk-container-id-2 div.sk-text-repr-fallback {display: none;}</style><div id=\"sk-container-id-2\" class=\"sk-top-container\"><div class=\"sk-text-repr-fallback\"><pre>GridSearchCV(cv=2,\n",
       "             estimator=Pipeline(steps=[(&#x27;columntransformer&#x27;,\n",
       "                                        ColumnTransformer(remainder=&#x27;passthrough&#x27;,\n",
       "                                                          transformers=[(&#x27;One&#x27;,\n",
       "                                                                         OneHotEncoder(drop=&#x27;first&#x27;,\n",
       "                                                                                       handle_unknown=&#x27;ignore&#x27;,\n",
       "                                                                                       sparse_output=False),\n",
       "                                                                         [0, 1,\n",
       "                                                                          2, 3,\n",
       "                                                                          5, 8,\n",
       "                                                                          9, 12,\n",
       "                                                                          13])])),\n",
       "                                       (&#x27;standardscaler&#x27;, StandardScaler()),\n",
       "                                       (&#x27;xgbregressor&#x27;,\n",
       "                                        XGBRegressor(base_score=None,\n",
       "                                                     booster=None,\n",
       "                                                     callbacks=None,\n",
       "                                                     colsample_bylev...\n",
       "                                                     max_cat_threshold=None,\n",
       "                                                     max_cat_to_onehot=None,\n",
       "                                                     max_delta_step=None,\n",
       "                                                     max_depth=None,\n",
       "                                                     max_leaves=None,\n",
       "                                                     min_child_weight=None,\n",
       "                                                     missing=nan,\n",
       "                                                     monotone_constraints=None,\n",
       "                                                     multi_strategy=None,\n",
       "                                                     n_estimators=None,\n",
       "                                                     n_jobs=None,\n",
       "                                                     num_parallel_tree=None,\n",
       "                                                     random_state=None, ...))]),\n",
       "             n_jobs=-1,\n",
       "             param_grid={&#x27;xgbregressor__max_depth&#x27;: [5, 6],\n",
       "                         &#x27;xgbregressor__n_estimators&#x27;: [300, 400]},\n",
       "             verbose=1)</pre><b>In a Jupyter environment, please rerun this cell to show the HTML representation or trust the notebook. <br />On GitHub, the HTML representation is unable to render, please try loading this page with nbviewer.org.</b></div><div class=\"sk-container\" hidden><div class=\"sk-item sk-dashed-wrapped\"><div class=\"sk-label-container\"><div class=\"sk-label sk-toggleable\"><input class=\"sk-toggleable__control sk-hidden--visually\" id=\"sk-estimator-id-9\" type=\"checkbox\" ><label for=\"sk-estimator-id-9\" class=\"sk-toggleable__label sk-toggleable__label-arrow\">GridSearchCV</label><div class=\"sk-toggleable__content\"><pre>GridSearchCV(cv=2,\n",
       "             estimator=Pipeline(steps=[(&#x27;columntransformer&#x27;,\n",
       "                                        ColumnTransformer(remainder=&#x27;passthrough&#x27;,\n",
       "                                                          transformers=[(&#x27;One&#x27;,\n",
       "                                                                         OneHotEncoder(drop=&#x27;first&#x27;,\n",
       "                                                                                       handle_unknown=&#x27;ignore&#x27;,\n",
       "                                                                                       sparse_output=False),\n",
       "                                                                         [0, 1,\n",
       "                                                                          2, 3,\n",
       "                                                                          5, 8,\n",
       "                                                                          9, 12,\n",
       "                                                                          13])])),\n",
       "                                       (&#x27;standardscaler&#x27;, StandardScaler()),\n",
       "                                       (&#x27;xgbregressor&#x27;,\n",
       "                                        XGBRegressor(base_score=None,\n",
       "                                                     booster=None,\n",
       "                                                     callbacks=None,\n",
       "                                                     colsample_bylev...\n",
       "                                                     max_cat_threshold=None,\n",
       "                                                     max_cat_to_onehot=None,\n",
       "                                                     max_delta_step=None,\n",
       "                                                     max_depth=None,\n",
       "                                                     max_leaves=None,\n",
       "                                                     min_child_weight=None,\n",
       "                                                     missing=nan,\n",
       "                                                     monotone_constraints=None,\n",
       "                                                     multi_strategy=None,\n",
       "                                                     n_estimators=None,\n",
       "                                                     n_jobs=None,\n",
       "                                                     num_parallel_tree=None,\n",
       "                                                     random_state=None, ...))]),\n",
       "             n_jobs=-1,\n",
       "             param_grid={&#x27;xgbregressor__max_depth&#x27;: [5, 6],\n",
       "                         &#x27;xgbregressor__n_estimators&#x27;: [300, 400]},\n",
       "             verbose=1)</pre></div></div></div><div class=\"sk-parallel\"><div class=\"sk-parallel-item\"><div class=\"sk-item\"><div class=\"sk-label-container\"><div class=\"sk-label sk-toggleable\"><input class=\"sk-toggleable__control sk-hidden--visually\" id=\"sk-estimator-id-10\" type=\"checkbox\" ><label for=\"sk-estimator-id-10\" class=\"sk-toggleable__label sk-toggleable__label-arrow\">estimator: Pipeline</label><div class=\"sk-toggleable__content\"><pre>Pipeline(steps=[(&#x27;columntransformer&#x27;,\n",
       "                 ColumnTransformer(remainder=&#x27;passthrough&#x27;,\n",
       "                                   transformers=[(&#x27;One&#x27;,\n",
       "                                                  OneHotEncoder(drop=&#x27;first&#x27;,\n",
       "                                                                handle_unknown=&#x27;ignore&#x27;,\n",
       "                                                                sparse_output=False),\n",
       "                                                  [0, 1, 2, 3, 5, 8, 9, 12,\n",
       "                                                   13])])),\n",
       "                (&#x27;standardscaler&#x27;, StandardScaler()),\n",
       "                (&#x27;xgbregressor&#x27;,\n",
       "                 XGBRegressor(base_score=None, booster=None, callbacks=None,\n",
       "                              colsample_bylevel=None, colsample_bynode=Non...\n",
       "                              feature_types=None, gamma=None, grow_policy=None,\n",
       "                              importance_type=None,\n",
       "                              interaction_constraints=None, learning_rate=None,\n",
       "                              max_bin=None, max_cat_threshold=None,\n",
       "                              max_cat_to_onehot=None, max_delta_step=None,\n",
       "                              max_depth=None, max_leaves=None,\n",
       "                              min_child_weight=None, missing=nan,\n",
       "                              monotone_constraints=None, multi_strategy=None,\n",
       "                              n_estimators=None, n_jobs=None,\n",
       "                              num_parallel_tree=None, random_state=None, ...))])</pre></div></div></div><div class=\"sk-serial\"><div class=\"sk-item\"><div class=\"sk-serial\"><div class=\"sk-item sk-dashed-wrapped\"><div class=\"sk-label-container\"><div class=\"sk-label sk-toggleable\"><input class=\"sk-toggleable__control sk-hidden--visually\" id=\"sk-estimator-id-11\" type=\"checkbox\" ><label for=\"sk-estimator-id-11\" class=\"sk-toggleable__label sk-toggleable__label-arrow\">columntransformer: ColumnTransformer</label><div class=\"sk-toggleable__content\"><pre>ColumnTransformer(remainder=&#x27;passthrough&#x27;,\n",
       "                  transformers=[(&#x27;One&#x27;,\n",
       "                                 OneHotEncoder(drop=&#x27;first&#x27;,\n",
       "                                               handle_unknown=&#x27;ignore&#x27;,\n",
       "                                               sparse_output=False),\n",
       "                                 [0, 1, 2, 3, 5, 8, 9, 12, 13])])</pre></div></div></div><div class=\"sk-parallel\"><div class=\"sk-parallel-item\"><div class=\"sk-item\"><div class=\"sk-label-container\"><div class=\"sk-label sk-toggleable\"><input class=\"sk-toggleable__control sk-hidden--visually\" id=\"sk-estimator-id-12\" type=\"checkbox\" ><label for=\"sk-estimator-id-12\" class=\"sk-toggleable__label sk-toggleable__label-arrow\">One</label><div class=\"sk-toggleable__content\"><pre>[0, 1, 2, 3, 5, 8, 9, 12, 13]</pre></div></div></div><div class=\"sk-serial\"><div class=\"sk-item\"><div class=\"sk-estimator sk-toggleable\"><input class=\"sk-toggleable__control sk-hidden--visually\" id=\"sk-estimator-id-13\" type=\"checkbox\" ><label for=\"sk-estimator-id-13\" class=\"sk-toggleable__label sk-toggleable__label-arrow\">OneHotEncoder</label><div class=\"sk-toggleable__content\"><pre>OneHotEncoder(drop=&#x27;first&#x27;, handle_unknown=&#x27;ignore&#x27;, sparse_output=False)</pre></div></div></div></div></div></div><div class=\"sk-parallel-item\"><div class=\"sk-item\"><div class=\"sk-label-container\"><div class=\"sk-label sk-toggleable\"><input class=\"sk-toggleable__control sk-hidden--visually\" id=\"sk-estimator-id-14\" type=\"checkbox\" ><label for=\"sk-estimator-id-14\" class=\"sk-toggleable__label sk-toggleable__label-arrow\">remainder</label><div class=\"sk-toggleable__content\"><pre>[&#x27;year&#x27;, &#x27;length_ft&#x27;, &#x27;beam_ft&#x27;, &#x27;numEngines&#x27;, &#x27;totalHP&#x27;, &#x27;created_month&#x27;, &#x27;created_year&#x27;, &#x27;created_day&#x27;]</pre></div></div></div><div class=\"sk-serial\"><div class=\"sk-item\"><div class=\"sk-estimator sk-toggleable\"><input class=\"sk-toggleable__control sk-hidden--visually\" id=\"sk-estimator-id-15\" type=\"checkbox\" ><label for=\"sk-estimator-id-15\" class=\"sk-toggleable__label sk-toggleable__label-arrow\">passthrough</label><div class=\"sk-toggleable__content\"><pre>passthrough</pre></div></div></div></div></div></div></div></div><div class=\"sk-item\"><div class=\"sk-estimator sk-toggleable\"><input class=\"sk-toggleable__control sk-hidden--visually\" id=\"sk-estimator-id-16\" type=\"checkbox\" ><label for=\"sk-estimator-id-16\" class=\"sk-toggleable__label sk-toggleable__label-arrow\">StandardScaler</label><div class=\"sk-toggleable__content\"><pre>StandardScaler()</pre></div></div></div><div class=\"sk-item\"><div class=\"sk-estimator sk-toggleable\"><input class=\"sk-toggleable__control sk-hidden--visually\" id=\"sk-estimator-id-17\" type=\"checkbox\" ><label for=\"sk-estimator-id-17\" class=\"sk-toggleable__label sk-toggleable__label-arrow\">XGBRegressor</label><div class=\"sk-toggleable__content\"><pre>XGBRegressor(base_score=None, booster=None, callbacks=None,\n",
       "             colsample_bylevel=None, colsample_bynode=None,\n",
       "             colsample_bytree=None, device=None, early_stopping_rounds=None,\n",
       "             enable_categorical=False, eval_metric=None, feature_types=None,\n",
       "             gamma=None, grow_policy=None, importance_type=None,\n",
       "             interaction_constraints=None, learning_rate=None, max_bin=None,\n",
       "             max_cat_threshold=None, max_cat_to_onehot=None,\n",
       "             max_delta_step=None, max_depth=None, max_leaves=None,\n",
       "             min_child_weight=None, missing=nan, monotone_constraints=None,\n",
       "             multi_strategy=None, n_estimators=None, n_jobs=None,\n",
       "             num_parallel_tree=None, random_state=None, ...)</pre></div></div></div></div></div></div></div></div></div></div></div></div>"
      ],
      "text/plain": [
       "GridSearchCV(cv=2,\n",
       "             estimator=Pipeline(steps=[('columntransformer',\n",
       "                                        ColumnTransformer(remainder='passthrough',\n",
       "                                                          transformers=[('One',\n",
       "                                                                         OneHotEncoder(drop='first',\n",
       "                                                                                       handle_unknown='ignore',\n",
       "                                                                                       sparse_output=False),\n",
       "                                                                         [0, 1,\n",
       "                                                                          2, 3,\n",
       "                                                                          5, 8,\n",
       "                                                                          9, 12,\n",
       "                                                                          13])])),\n",
       "                                       ('standardscaler', StandardScaler()),\n",
       "                                       ('xgbregressor',\n",
       "                                        XGBRegressor(base_score=None,\n",
       "                                                     booster=None,\n",
       "                                                     callbacks=None,\n",
       "                                                     colsample_bylev...\n",
       "                                                     max_cat_threshold=None,\n",
       "                                                     max_cat_to_onehot=None,\n",
       "                                                     max_delta_step=None,\n",
       "                                                     max_depth=None,\n",
       "                                                     max_leaves=None,\n",
       "                                                     min_child_weight=None,\n",
       "                                                     missing=nan,\n",
       "                                                     monotone_constraints=None,\n",
       "                                                     multi_strategy=None,\n",
       "                                                     n_estimators=None,\n",
       "                                                     n_jobs=None,\n",
       "                                                     num_parallel_tree=None,\n",
       "                                                     random_state=None, ...))]),\n",
       "             n_jobs=-1,\n",
       "             param_grid={'xgbregressor__max_depth': [5, 6],\n",
       "                         'xgbregressor__n_estimators': [300, 400]},\n",
       "             verbose=1)"
      ]
     },
     "execution_count": 46,
     "metadata": {},
     "output_type": "execute_result"
    }
   ],
   "source": [
    "model.fit(x_train,y_train)"
   ]
  },
  {
   "cell_type": "code",
   "execution_count": 47,
   "id": "5796fbf5-fbcc-41e3-9bf5-c4c20f014f06",
   "metadata": {},
   "outputs": [
    {
     "data": {
      "text/plain": [
       "{'xgbregressor__max_depth': 5, 'xgbregressor__n_estimators': 400}"
      ]
     },
     "execution_count": 47,
     "metadata": {},
     "output_type": "execute_result"
    }
   ],
   "source": [
    "model.best_params_"
   ]
  },
  {
   "cell_type": "code",
   "execution_count": 48,
   "id": "d9466d91-9a47-4e25-99c2-976a3cf9a875",
   "metadata": {},
   "outputs": [
    {
     "data": {
      "text/plain": [
       "0.9769748659533952"
      ]
     },
     "execution_count": 48,
     "metadata": {},
     "output_type": "execute_result"
    }
   ],
   "source": [
    "model.score(x_train,y_train)"
   ]
  },
  {
   "cell_type": "code",
   "execution_count": 49,
   "id": "ed771577-1d2d-4def-b129-d3953f8cf5e7",
   "metadata": {},
   "outputs": [
    {
     "data": {
      "text/plain": [
       "0.9385456328056512"
      ]
     },
     "execution_count": 49,
     "metadata": {},
     "output_type": "execute_result"
    }
   ],
   "source": [
    "model.score(x_test,y_test)"
   ]
  },
  {
   "cell_type": "code",
   "execution_count": 50,
   "id": "f4564348-a765-47d9-8b8e-02f5184cf66f",
   "metadata": {},
   "outputs": [],
   "source": [
    "y_pred = model.predict(x_test)"
   ]
  },
  {
   "cell_type": "code",
   "execution_count": 51,
   "id": "7c578ea9-39ed-4d22-92c8-f5544988aacf",
   "metadata": {},
   "outputs": [
    {
     "data": {
      "text/plain": [
       "0.9385456328056512"
      ]
     },
     "execution_count": 51,
     "metadata": {},
     "output_type": "execute_result"
    }
   ],
   "source": [
    "r2_score(y_test,y_pred)"
   ]
  },
  {
   "cell_type": "code",
   "execution_count": 52,
   "id": "89824eec-f551-4012-ab41-86ff756d2a46",
   "metadata": {},
   "outputs": [
    {
     "data": {
      "text/plain": [
       "array(['power', 'power-pwc', 'Sea-Doo', 'GTI™ 90', 2019, 'new', 11.05,\n",
       "       4.0, 'fiberglass', 'gasoline', 1, 0.0, 'Springdale', 'AR', 11,\n",
       "       2018, 2], dtype=object)"
      ]
     },
     "execution_count": 52,
     "metadata": {},
     "output_type": "execute_result"
    }
   ],
   "source": [
    "x_train.iloc[111].values"
   ]
  },
  {
   "cell_type": "code",
   "execution_count": 53,
   "id": "6865c8ad-5c4a-4bcf-9416-3d6b63294907",
   "metadata": {},
   "outputs": [
    {
     "data": {
      "text/plain": [
       "8799.0"
      ]
     },
     "execution_count": 53,
     "metadata": {},
     "output_type": "execute_result"
    }
   ],
   "source": [
    "y_train.iloc[111]"
   ]
  },
  {
   "cell_type": "code",
   "execution_count": 54,
   "id": "a0bc778f-c7c8-464f-be6a-0c9526d47520",
   "metadata": {},
   "outputs": [
    {
     "data": {
      "text/plain": [
       "11384.897"
      ]
     },
     "execution_count": 54,
     "metadata": {},
     "output_type": "execute_result"
    }
   ],
   "source": [
    "input = x_train.iloc[111].values\n",
    "reshaped_data = np.asarray(input).reshape(1,-1)\n",
    "model.predict(reshaped_data)[0]"
   ]
  },
  {
   "cell_type": "code",
   "execution_count": 55,
   "id": "f28050a8-0427-4c8f-9d22-0b944d0543cc",
   "metadata": {},
   "outputs": [],
   "source": [
    "import pickle"
   ]
  },
  {
   "cell_type": "code",
   "execution_count": 56,
   "id": "42d0f6e3-8ad1-479c-8f56-0a6e59f07b5d",
   "metadata": {},
   "outputs": [],
   "source": [
    "with open('clean_data.pkl', 'wb') as f:\n",
    "    pickle.dump(X, f)"
   ]
  },
  {
   "cell_type": "code",
   "execution_count": 57,
   "id": "3aa0ad24-42ee-4b18-a9f8-609ae6744908",
   "metadata": {},
   "outputs": [],
   "source": [
    "with open('model.pkl', 'wb') as f:\n",
    "    pickle.dump(model, f)"
   ]
  },
  {
   "cell_type": "code",
   "execution_count": null,
   "id": "8383ee10-b131-4048-8749-36a4e6a20715",
   "metadata": {},
   "outputs": [],
   "source": []
  }
 ],
 "metadata": {
  "kernelspec": {
   "display_name": "Python 3 (ipykernel)",
   "language": "python",
   "name": "python3"
  },
  "language_info": {
   "codemirror_mode": {
    "name": "ipython",
    "version": 3
   },
   "file_extension": ".py",
   "mimetype": "text/x-python",
   "name": "python",
   "nbconvert_exporter": "python",
   "pygments_lexer": "ipython3",
   "version": "3.12.1"
  }
 },
 "nbformat": 4,
 "nbformat_minor": 5
}
